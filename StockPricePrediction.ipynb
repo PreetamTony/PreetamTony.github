{
  "nbformat": 4,
  "nbformat_minor": 0,
  "metadata": {
    "colab": {
      "provenance": []
    },
    "kernelspec": {
      "name": "python3",
      "display_name": "Python 3"
    },
    "language_info": {
      "name": "python"
    }
  },
  "cells": [
    {
      "cell_type": "code",
      "execution_count": 25,
      "metadata": {
        "id": "N-7rjNlX640A"
      },
      "outputs": [],
      "source": [
        "import yfinance as yf"
      ]
    },
    {
      "cell_type": "code",
      "source": [
        "stock_symbol = 'GAIL.NS'"
      ],
      "metadata": {
        "id": "rs_7jbZu76wu"
      },
      "execution_count": 26,
      "outputs": []
    },
    {
      "cell_type": "code",
      "source": [
        "data = yf.download(tickers=stock_symbol,period='5y',interval='1d')"
      ],
      "metadata": {
        "colab": {
          "base_uri": "https://localhost:8080/"
        },
        "id": "L_BhA-OX7-S0",
        "outputId": "5eddb3e4-2ea3-428c-bb11-0b10ab0befc8"
      },
      "execution_count": 27,
      "outputs": [
        {
          "output_type": "stream",
          "name": "stderr",
          "text": [
            "\r[*********************100%%**********************]  1 of 1 completed\n"
          ]
        }
      ]
    },
    {
      "cell_type": "code",
      "source": [
        "type(data)"
      ],
      "metadata": {
        "colab": {
          "base_uri": "https://localhost:8080/",
          "height": 203
        },
        "id": "_KdNnYPg8E_e",
        "outputId": "73c2cc1c-128f-4ba3-9c3d-495852d071d7"
      },
      "execution_count": 28,
      "outputs": [
        {
          "output_type": "execute_result",
          "data": {
            "text/plain": [
              "pandas.core.frame.DataFrame"
            ],
            "text/html": [
              "<div style=\"max-width:800px; border: 1px solid var(--colab-border-color);\"><style>\n",
              "      pre.function-repr-contents {\n",
              "        overflow-x: auto;\n",
              "        padding: 8px 12px;\n",
              "        max-height: 500px;\n",
              "      }\n",
              "\n",
              "      pre.function-repr-contents.function-repr-contents-collapsed {\n",
              "        cursor: pointer;\n",
              "        max-height: 100px;\n",
              "      }\n",
              "    </style>\n",
              "    <pre style=\"white-space: initial; background:\n",
              "         var(--colab-secondary-surface-color); padding: 8px 12px;\n",
              "         border-bottom: 1px solid var(--colab-border-color);\"><b>pandas.core.frame.DataFrame</b><br/>def __init__(data=None, index: Axes | None=None, columns: Axes | None=None, dtype: Dtype | None=None, copy: bool | None=None) -&gt; None</pre><pre class=\"function-repr-contents function-repr-contents-collapsed\" style=\"\"><a class=\"filepath\" style=\"display:none\" href=\"#\">/usr/local/lib/python3.10/dist-packages/pandas/core/frame.py</a>Two-dimensional, size-mutable, potentially heterogeneous tabular data.\n",
              "\n",
              "Data structure also contains labeled axes (rows and columns).\n",
              "Arithmetic operations align on both row and column labels. Can be\n",
              "thought of as a dict-like container for Series objects. The primary\n",
              "pandas data structure.\n",
              "\n",
              "Parameters\n",
              "----------\n",
              "data : ndarray (structured or homogeneous), Iterable, dict, or DataFrame\n",
              "    Dict can contain Series, arrays, constants, dataclass or list-like objects. If\n",
              "    data is a dict, column order follows insertion-order. If a dict contains Series\n",
              "    which have an index defined, it is aligned by its index. This alignment also\n",
              "    occurs if data is a Series or a DataFrame itself. Alignment is done on\n",
              "    Series/DataFrame inputs.\n",
              "\n",
              "    If data is a list of dicts, column order follows insertion-order.\n",
              "\n",
              "index : Index or array-like\n",
              "    Index to use for resulting frame. Will default to RangeIndex if\n",
              "    no indexing information part of input data and no index provided.\n",
              "columns : Index or array-like\n",
              "    Column labels to use for resulting frame when data does not have them,\n",
              "    defaulting to RangeIndex(0, 1, 2, ..., n). If data contains column labels,\n",
              "    will perform column selection instead.\n",
              "dtype : dtype, default None\n",
              "    Data type to force. Only a single dtype is allowed. If None, infer.\n",
              "copy : bool or None, default None\n",
              "    Copy data from inputs.\n",
              "    For dict data, the default of None behaves like ``copy=True``.  For DataFrame\n",
              "    or 2d ndarray input, the default of None behaves like ``copy=False``.\n",
              "    If data is a dict containing one or more Series (possibly of different dtypes),\n",
              "    ``copy=False`` will ensure that these inputs are not copied.\n",
              "\n",
              "    .. versionchanged:: 1.3.0\n",
              "\n",
              "See Also\n",
              "--------\n",
              "DataFrame.from_records : Constructor from tuples, also record arrays.\n",
              "DataFrame.from_dict : From dicts of Series, arrays, or dicts.\n",
              "read_csv : Read a comma-separated values (csv) file into DataFrame.\n",
              "read_table : Read general delimited file into DataFrame.\n",
              "read_clipboard : Read text from clipboard into DataFrame.\n",
              "\n",
              "Notes\n",
              "-----\n",
              "Please reference the :ref:`User Guide &lt;basics.dataframe&gt;` for more information.\n",
              "\n",
              "Examples\n",
              "--------\n",
              "Constructing DataFrame from a dictionary.\n",
              "\n",
              "&gt;&gt;&gt; d = {&#x27;col1&#x27;: [1, 2], &#x27;col2&#x27;: [3, 4]}\n",
              "&gt;&gt;&gt; df = pd.DataFrame(data=d)\n",
              "&gt;&gt;&gt; df\n",
              "   col1  col2\n",
              "0     1     3\n",
              "1     2     4\n",
              "\n",
              "Notice that the inferred dtype is int64.\n",
              "\n",
              "&gt;&gt;&gt; df.dtypes\n",
              "col1    int64\n",
              "col2    int64\n",
              "dtype: object\n",
              "\n",
              "To enforce a single dtype:\n",
              "\n",
              "&gt;&gt;&gt; df = pd.DataFrame(data=d, dtype=np.int8)\n",
              "&gt;&gt;&gt; df.dtypes\n",
              "col1    int8\n",
              "col2    int8\n",
              "dtype: object\n",
              "\n",
              "Constructing DataFrame from a dictionary including Series:\n",
              "\n",
              "&gt;&gt;&gt; d = {&#x27;col1&#x27;: [0, 1, 2, 3], &#x27;col2&#x27;: pd.Series([2, 3], index=[2, 3])}\n",
              "&gt;&gt;&gt; pd.DataFrame(data=d, index=[0, 1, 2, 3])\n",
              "   col1  col2\n",
              "0     0   NaN\n",
              "1     1   NaN\n",
              "2     2   2.0\n",
              "3     3   3.0\n",
              "\n",
              "Constructing DataFrame from numpy ndarray:\n",
              "\n",
              "&gt;&gt;&gt; df2 = pd.DataFrame(np.array([[1, 2, 3], [4, 5, 6], [7, 8, 9]]),\n",
              "...                    columns=[&#x27;a&#x27;, &#x27;b&#x27;, &#x27;c&#x27;])\n",
              "&gt;&gt;&gt; df2\n",
              "   a  b  c\n",
              "0  1  2  3\n",
              "1  4  5  6\n",
              "2  7  8  9\n",
              "\n",
              "Constructing DataFrame from a numpy ndarray that has labeled columns:\n",
              "\n",
              "&gt;&gt;&gt; data = np.array([(1, 2, 3), (4, 5, 6), (7, 8, 9)],\n",
              "...                 dtype=[(&quot;a&quot;, &quot;i4&quot;), (&quot;b&quot;, &quot;i4&quot;), (&quot;c&quot;, &quot;i4&quot;)])\n",
              "&gt;&gt;&gt; df3 = pd.DataFrame(data, columns=[&#x27;c&#x27;, &#x27;a&#x27;])\n",
              "...\n",
              "&gt;&gt;&gt; df3\n",
              "   c  a\n",
              "0  3  1\n",
              "1  6  4\n",
              "2  9  7\n",
              "\n",
              "Constructing DataFrame from dataclass:\n",
              "\n",
              "&gt;&gt;&gt; from dataclasses import make_dataclass\n",
              "&gt;&gt;&gt; Point = make_dataclass(&quot;Point&quot;, [(&quot;x&quot;, int), (&quot;y&quot;, int)])\n",
              "&gt;&gt;&gt; pd.DataFrame([Point(0, 0), Point(0, 3), Point(2, 3)])\n",
              "   x  y\n",
              "0  0  0\n",
              "1  0  3\n",
              "2  2  3\n",
              "\n",
              "Constructing DataFrame from Series/DataFrame:\n",
              "\n",
              "&gt;&gt;&gt; ser = pd.Series([1, 2, 3], index=[&quot;a&quot;, &quot;b&quot;, &quot;c&quot;])\n",
              "&gt;&gt;&gt; df = pd.DataFrame(data=ser, index=[&quot;a&quot;, &quot;c&quot;])\n",
              "&gt;&gt;&gt; df\n",
              "   0\n",
              "a  1\n",
              "c  3\n",
              "\n",
              "&gt;&gt;&gt; df1 = pd.DataFrame([1, 2, 3], index=[&quot;a&quot;, &quot;b&quot;, &quot;c&quot;], columns=[&quot;x&quot;])\n",
              "&gt;&gt;&gt; df2 = pd.DataFrame(data=df1, index=[&quot;a&quot;, &quot;c&quot;])\n",
              "&gt;&gt;&gt; df2\n",
              "   x\n",
              "a  1\n",
              "c  3</pre>\n",
              "      <script>\n",
              "      if (google.colab.kernel.accessAllowed && google.colab.files && google.colab.files.view) {\n",
              "        for (const element of document.querySelectorAll('.filepath')) {\n",
              "          element.style.display = 'block'\n",
              "          element.onclick = (event) => {\n",
              "            event.preventDefault();\n",
              "            event.stopPropagation();\n",
              "            google.colab.files.view(element.textContent, 490);\n",
              "          };\n",
              "        }\n",
              "      }\n",
              "      for (const element of document.querySelectorAll('.function-repr-contents')) {\n",
              "        element.onclick = (event) => {\n",
              "          event.preventDefault();\n",
              "          event.stopPropagation();\n",
              "          element.classList.toggle('function-repr-contents-collapsed');\n",
              "        };\n",
              "      }\n",
              "      </script>\n",
              "      </div>"
            ]
          },
          "metadata": {},
          "execution_count": 28
        }
      ]
    },
    {
      "cell_type": "code",
      "source": [
        "data.head()"
      ],
      "metadata": {
        "colab": {
          "base_uri": "https://localhost:8080/",
          "height": 237
        },
        "id": "ipZmlCNp8IyA",
        "outputId": "0b77c7b0-2554-4da8-ebb1-dc8ee295f25f"
      },
      "execution_count": 29,
      "outputs": [
        {
          "output_type": "execute_result",
          "data": {
            "text/plain": [
              "                  Open        High         Low       Close  Adj Close  \\\n",
              "Date                                                                    \n",
              "2019-05-08  113.666664  115.050003  112.133331  112.500000  88.747253   \n",
              "2019-05-09  112.366669  113.816666  111.016663  113.466667  89.509827   \n",
              "2019-05-10  113.666664  114.599998  112.733330  113.849998  89.812218   \n",
              "2019-05-13  113.849998  114.266663  110.099998  110.683334  87.314140   \n",
              "2019-05-14  110.666664  118.433334  110.250000  115.050003  90.758858   \n",
              "\n",
              "              Volume  \n",
              "Date                  \n",
              "2019-05-08  11045511  \n",
              "2019-05-09   8284242  \n",
              "2019-05-10   5578368  \n",
              "2019-05-13   5021220  \n",
              "2019-05-14  13691946  "
            ],
            "text/html": [
              "\n",
              "  <div id=\"df-b550f241-53ba-4a6f-ac08-8514bcf0d2c6\" class=\"colab-df-container\">\n",
              "    <div>\n",
              "<style scoped>\n",
              "    .dataframe tbody tr th:only-of-type {\n",
              "        vertical-align: middle;\n",
              "    }\n",
              "\n",
              "    .dataframe tbody tr th {\n",
              "        vertical-align: top;\n",
              "    }\n",
              "\n",
              "    .dataframe thead th {\n",
              "        text-align: right;\n",
              "    }\n",
              "</style>\n",
              "<table border=\"1\" class=\"dataframe\">\n",
              "  <thead>\n",
              "    <tr style=\"text-align: right;\">\n",
              "      <th></th>\n",
              "      <th>Open</th>\n",
              "      <th>High</th>\n",
              "      <th>Low</th>\n",
              "      <th>Close</th>\n",
              "      <th>Adj Close</th>\n",
              "      <th>Volume</th>\n",
              "    </tr>\n",
              "    <tr>\n",
              "      <th>Date</th>\n",
              "      <th></th>\n",
              "      <th></th>\n",
              "      <th></th>\n",
              "      <th></th>\n",
              "      <th></th>\n",
              "      <th></th>\n",
              "    </tr>\n",
              "  </thead>\n",
              "  <tbody>\n",
              "    <tr>\n",
              "      <th>2019-05-08</th>\n",
              "      <td>113.666664</td>\n",
              "      <td>115.050003</td>\n",
              "      <td>112.133331</td>\n",
              "      <td>112.500000</td>\n",
              "      <td>88.747253</td>\n",
              "      <td>11045511</td>\n",
              "    </tr>\n",
              "    <tr>\n",
              "      <th>2019-05-09</th>\n",
              "      <td>112.366669</td>\n",
              "      <td>113.816666</td>\n",
              "      <td>111.016663</td>\n",
              "      <td>113.466667</td>\n",
              "      <td>89.509827</td>\n",
              "      <td>8284242</td>\n",
              "    </tr>\n",
              "    <tr>\n",
              "      <th>2019-05-10</th>\n",
              "      <td>113.666664</td>\n",
              "      <td>114.599998</td>\n",
              "      <td>112.733330</td>\n",
              "      <td>113.849998</td>\n",
              "      <td>89.812218</td>\n",
              "      <td>5578368</td>\n",
              "    </tr>\n",
              "    <tr>\n",
              "      <th>2019-05-13</th>\n",
              "      <td>113.849998</td>\n",
              "      <td>114.266663</td>\n",
              "      <td>110.099998</td>\n",
              "      <td>110.683334</td>\n",
              "      <td>87.314140</td>\n",
              "      <td>5021220</td>\n",
              "    </tr>\n",
              "    <tr>\n",
              "      <th>2019-05-14</th>\n",
              "      <td>110.666664</td>\n",
              "      <td>118.433334</td>\n",
              "      <td>110.250000</td>\n",
              "      <td>115.050003</td>\n",
              "      <td>90.758858</td>\n",
              "      <td>13691946</td>\n",
              "    </tr>\n",
              "  </tbody>\n",
              "</table>\n",
              "</div>\n",
              "    <div class=\"colab-df-buttons\">\n",
              "\n",
              "  <div class=\"colab-df-container\">\n",
              "    <button class=\"colab-df-convert\" onclick=\"convertToInteractive('df-b550f241-53ba-4a6f-ac08-8514bcf0d2c6')\"\n",
              "            title=\"Convert this dataframe to an interactive table.\"\n",
              "            style=\"display:none;\">\n",
              "\n",
              "  <svg xmlns=\"http://www.w3.org/2000/svg\" height=\"24px\" viewBox=\"0 -960 960 960\">\n",
              "    <path d=\"M120-120v-720h720v720H120Zm60-500h600v-160H180v160Zm220 220h160v-160H400v160Zm0 220h160v-160H400v160ZM180-400h160v-160H180v160Zm440 0h160v-160H620v160ZM180-180h160v-160H180v160Zm440 0h160v-160H620v160Z\"/>\n",
              "  </svg>\n",
              "    </button>\n",
              "\n",
              "  <style>\n",
              "    .colab-df-container {\n",
              "      display:flex;\n",
              "      gap: 12px;\n",
              "    }\n",
              "\n",
              "    .colab-df-convert {\n",
              "      background-color: #E8F0FE;\n",
              "      border: none;\n",
              "      border-radius: 50%;\n",
              "      cursor: pointer;\n",
              "      display: none;\n",
              "      fill: #1967D2;\n",
              "      height: 32px;\n",
              "      padding: 0 0 0 0;\n",
              "      width: 32px;\n",
              "    }\n",
              "\n",
              "    .colab-df-convert:hover {\n",
              "      background-color: #E2EBFA;\n",
              "      box-shadow: 0px 1px 2px rgba(60, 64, 67, 0.3), 0px 1px 3px 1px rgba(60, 64, 67, 0.15);\n",
              "      fill: #174EA6;\n",
              "    }\n",
              "\n",
              "    .colab-df-buttons div {\n",
              "      margin-bottom: 4px;\n",
              "    }\n",
              "\n",
              "    [theme=dark] .colab-df-convert {\n",
              "      background-color: #3B4455;\n",
              "      fill: #D2E3FC;\n",
              "    }\n",
              "\n",
              "    [theme=dark] .colab-df-convert:hover {\n",
              "      background-color: #434B5C;\n",
              "      box-shadow: 0px 1px 3px 1px rgba(0, 0, 0, 0.15);\n",
              "      filter: drop-shadow(0px 1px 2px rgba(0, 0, 0, 0.3));\n",
              "      fill: #FFFFFF;\n",
              "    }\n",
              "  </style>\n",
              "\n",
              "    <script>\n",
              "      const buttonEl =\n",
              "        document.querySelector('#df-b550f241-53ba-4a6f-ac08-8514bcf0d2c6 button.colab-df-convert');\n",
              "      buttonEl.style.display =\n",
              "        google.colab.kernel.accessAllowed ? 'block' : 'none';\n",
              "\n",
              "      async function convertToInteractive(key) {\n",
              "        const element = document.querySelector('#df-b550f241-53ba-4a6f-ac08-8514bcf0d2c6');\n",
              "        const dataTable =\n",
              "          await google.colab.kernel.invokeFunction('convertToInteractive',\n",
              "                                                    [key], {});\n",
              "        if (!dataTable) return;\n",
              "\n",
              "        const docLinkHtml = 'Like what you see? Visit the ' +\n",
              "          '<a target=\"_blank\" href=https://colab.research.google.com/notebooks/data_table.ipynb>data table notebook</a>'\n",
              "          + ' to learn more about interactive tables.';\n",
              "        element.innerHTML = '';\n",
              "        dataTable['output_type'] = 'display_data';\n",
              "        await google.colab.output.renderOutput(dataTable, element);\n",
              "        const docLink = document.createElement('div');\n",
              "        docLink.innerHTML = docLinkHtml;\n",
              "        element.appendChild(docLink);\n",
              "      }\n",
              "    </script>\n",
              "  </div>\n",
              "\n",
              "\n",
              "<div id=\"df-c38e60b9-5ec9-47f3-a6c7-2442927a8eb7\">\n",
              "  <button class=\"colab-df-quickchart\" onclick=\"quickchart('df-c38e60b9-5ec9-47f3-a6c7-2442927a8eb7')\"\n",
              "            title=\"Suggest charts\"\n",
              "            style=\"display:none;\">\n",
              "\n",
              "<svg xmlns=\"http://www.w3.org/2000/svg\" height=\"24px\"viewBox=\"0 0 24 24\"\n",
              "     width=\"24px\">\n",
              "    <g>\n",
              "        <path d=\"M19 3H5c-1.1 0-2 .9-2 2v14c0 1.1.9 2 2 2h14c1.1 0 2-.9 2-2V5c0-1.1-.9-2-2-2zM9 17H7v-7h2v7zm4 0h-2V7h2v10zm4 0h-2v-4h2v4z\"/>\n",
              "    </g>\n",
              "</svg>\n",
              "  </button>\n",
              "\n",
              "<style>\n",
              "  .colab-df-quickchart {\n",
              "      --bg-color: #E8F0FE;\n",
              "      --fill-color: #1967D2;\n",
              "      --hover-bg-color: #E2EBFA;\n",
              "      --hover-fill-color: #174EA6;\n",
              "      --disabled-fill-color: #AAA;\n",
              "      --disabled-bg-color: #DDD;\n",
              "  }\n",
              "\n",
              "  [theme=dark] .colab-df-quickchart {\n",
              "      --bg-color: #3B4455;\n",
              "      --fill-color: #D2E3FC;\n",
              "      --hover-bg-color: #434B5C;\n",
              "      --hover-fill-color: #FFFFFF;\n",
              "      --disabled-bg-color: #3B4455;\n",
              "      --disabled-fill-color: #666;\n",
              "  }\n",
              "\n",
              "  .colab-df-quickchart {\n",
              "    background-color: var(--bg-color);\n",
              "    border: none;\n",
              "    border-radius: 50%;\n",
              "    cursor: pointer;\n",
              "    display: none;\n",
              "    fill: var(--fill-color);\n",
              "    height: 32px;\n",
              "    padding: 0;\n",
              "    width: 32px;\n",
              "  }\n",
              "\n",
              "  .colab-df-quickchart:hover {\n",
              "    background-color: var(--hover-bg-color);\n",
              "    box-shadow: 0 1px 2px rgba(60, 64, 67, 0.3), 0 1px 3px 1px rgba(60, 64, 67, 0.15);\n",
              "    fill: var(--button-hover-fill-color);\n",
              "  }\n",
              "\n",
              "  .colab-df-quickchart-complete:disabled,\n",
              "  .colab-df-quickchart-complete:disabled:hover {\n",
              "    background-color: var(--disabled-bg-color);\n",
              "    fill: var(--disabled-fill-color);\n",
              "    box-shadow: none;\n",
              "  }\n",
              "\n",
              "  .colab-df-spinner {\n",
              "    border: 2px solid var(--fill-color);\n",
              "    border-color: transparent;\n",
              "    border-bottom-color: var(--fill-color);\n",
              "    animation:\n",
              "      spin 1s steps(1) infinite;\n",
              "  }\n",
              "\n",
              "  @keyframes spin {\n",
              "    0% {\n",
              "      border-color: transparent;\n",
              "      border-bottom-color: var(--fill-color);\n",
              "      border-left-color: var(--fill-color);\n",
              "    }\n",
              "    20% {\n",
              "      border-color: transparent;\n",
              "      border-left-color: var(--fill-color);\n",
              "      border-top-color: var(--fill-color);\n",
              "    }\n",
              "    30% {\n",
              "      border-color: transparent;\n",
              "      border-left-color: var(--fill-color);\n",
              "      border-top-color: var(--fill-color);\n",
              "      border-right-color: var(--fill-color);\n",
              "    }\n",
              "    40% {\n",
              "      border-color: transparent;\n",
              "      border-right-color: var(--fill-color);\n",
              "      border-top-color: var(--fill-color);\n",
              "    }\n",
              "    60% {\n",
              "      border-color: transparent;\n",
              "      border-right-color: var(--fill-color);\n",
              "    }\n",
              "    80% {\n",
              "      border-color: transparent;\n",
              "      border-right-color: var(--fill-color);\n",
              "      border-bottom-color: var(--fill-color);\n",
              "    }\n",
              "    90% {\n",
              "      border-color: transparent;\n",
              "      border-bottom-color: var(--fill-color);\n",
              "    }\n",
              "  }\n",
              "</style>\n",
              "\n",
              "  <script>\n",
              "    async function quickchart(key) {\n",
              "      const quickchartButtonEl =\n",
              "        document.querySelector('#' + key + ' button');\n",
              "      quickchartButtonEl.disabled = true;  // To prevent multiple clicks.\n",
              "      quickchartButtonEl.classList.add('colab-df-spinner');\n",
              "      try {\n",
              "        const charts = await google.colab.kernel.invokeFunction(\n",
              "            'suggestCharts', [key], {});\n",
              "      } catch (error) {\n",
              "        console.error('Error during call to suggestCharts:', error);\n",
              "      }\n",
              "      quickchartButtonEl.classList.remove('colab-df-spinner');\n",
              "      quickchartButtonEl.classList.add('colab-df-quickchart-complete');\n",
              "    }\n",
              "    (() => {\n",
              "      let quickchartButtonEl =\n",
              "        document.querySelector('#df-c38e60b9-5ec9-47f3-a6c7-2442927a8eb7 button');\n",
              "      quickchartButtonEl.style.display =\n",
              "        google.colab.kernel.accessAllowed ? 'block' : 'none';\n",
              "    })();\n",
              "  </script>\n",
              "</div>\n",
              "\n",
              "    </div>\n",
              "  </div>\n"
            ],
            "application/vnd.google.colaboratory.intrinsic+json": {
              "type": "dataframe",
              "variable_name": "data",
              "summary": "{\n  \"name\": \"data\",\n  \"rows\": 1237,\n  \"fields\": [\n    {\n      \"column\": \"Date\",\n      \"properties\": {\n        \"dtype\": \"date\",\n        \"min\": \"2019-05-08 00:00:00\",\n        \"max\": \"2024-05-08 00:00:00\",\n        \"num_unique_values\": 1237,\n        \"samples\": [\n          \"2021-10-28 00:00:00\",\n          \"2020-01-21 00:00:00\",\n          \"2022-11-09 00:00:00\"\n        ],\n        \"semantic_type\": \"\",\n        \"description\": \"\"\n      }\n    },\n    {\n      \"column\": \"Open\",\n      \"properties\": {\n        \"dtype\": \"number\",\n        \"std\": 29.088239508532236,\n        \"min\": 45.633331298828125,\n        \"max\": 209.9499969482422,\n        \"num_unique_values\": 853,\n        \"samples\": [\n          85.26666259765625,\n          98.5,\n          58.666664123535156\n        ],\n        \"semantic_type\": \"\",\n        \"description\": \"\"\n      }\n    },\n    {\n      \"column\": \"High\",\n      \"properties\": {\n        \"dtype\": \"number\",\n        \"std\": 29.506019090868655,\n        \"min\": 48.166664123535156,\n        \"max\": 213.64999389648438,\n        \"num_unique_values\": 919,\n        \"samples\": [\n          83.13333129882812,\n          83.5,\n          61.233333587646484\n        ],\n        \"semantic_type\": \"\",\n        \"description\": \"\"\n      }\n    },\n    {\n      \"column\": \"Low\",\n      \"properties\": {\n        \"dtype\": \"number\",\n        \"std\": 28.63188098315112,\n        \"min\": 43.33333206176758,\n        \"max\": 208.64999389648438,\n        \"num_unique_values\": 919,\n        \"samples\": [\n          82.13333129882812,\n          82.0999984741211,\n          57.633331298828125\n        ],\n        \"semantic_type\": \"\",\n        \"description\": \"\"\n      }\n    },\n    {\n      \"column\": \"Close\",\n      \"properties\": {\n        \"dtype\": \"number\",\n        \"std\": 29.10196385160202,\n        \"min\": 46.266666412353516,\n        \"max\": 209.5500030517578,\n        \"num_unique_values\": 960,\n        \"samples\": [\n          129.9499969482422,\n          98.0,\n          82.06666564941406\n        ],\n        \"semantic_type\": \"\",\n        \"description\": \"\"\n      }\n    },\n    {\n      \"column\": \"Adj Close\",\n      \"properties\": {\n        \"dtype\": \"number\",\n        \"std\": 31.9957230373896,\n        \"min\": 38.79130935668945,\n        \"max\": 209.5500030517578,\n        \"num_unique_values\": 1093,\n        \"samples\": [\n          85.135009765625,\n          62.167572021484375,\n          69.87562561035156\n        ],\n        \"semantic_type\": \"\",\n        \"description\": \"\"\n      }\n    },\n    {\n      \"column\": \"Volume\",\n      \"properties\": {\n        \"dtype\": \"number\",\n        \"std\": 14940584,\n        \"min\": 869107,\n        \"max\": 172072992,\n        \"num_unique_values\": 1237,\n        \"samples\": [\n          14810112,\n          15138525,\n          12172444\n        ],\n        \"semantic_type\": \"\",\n        \"description\": \"\"\n      }\n    }\n  ]\n}"
            }
          },
          "metadata": {},
          "execution_count": 29
        }
      ]
    },
    {
      "cell_type": "code",
      "source": [
        "len(data)"
      ],
      "metadata": {
        "colab": {
          "base_uri": "https://localhost:8080/"
        },
        "id": "bEYMX4Z88MaY",
        "outputId": "941386f7-c2a7-4818-bdc8-04cedf93a38c"
      },
      "execution_count": 30,
      "outputs": [
        {
          "output_type": "execute_result",
          "data": {
            "text/plain": [
              "1237"
            ]
          },
          "metadata": {},
          "execution_count": 30
        }
      ]
    },
    {
      "cell_type": "code",
      "source": [
        "data.shape"
      ],
      "metadata": {
        "colab": {
          "base_uri": "https://localhost:8080/"
        },
        "id": "3AvvC0iB8PgF",
        "outputId": "6467b68e-782a-4695-f159-1d96993d3446"
      },
      "execution_count": 31,
      "outputs": [
        {
          "output_type": "execute_result",
          "data": {
            "text/plain": [
              "(1237, 6)"
            ]
          },
          "metadata": {},
          "execution_count": 31
        }
      ]
    },
    {
      "cell_type": "code",
      "source": [
        "data.tail()"
      ],
      "metadata": {
        "colab": {
          "base_uri": "https://localhost:8080/",
          "height": 237
        },
        "id": "ajLsxcbZ8RWJ",
        "outputId": "b39994c8-1295-42ad-e35c-aafd2f771db4"
      },
      "execution_count": 32,
      "outputs": [
        {
          "output_type": "execute_result",
          "data": {
            "text/plain": [
              "              Open        High         Low       Close   Adj Close    Volume\n",
              "Date                                                                        \n",
              "2024-05-02  209.00  210.149994  201.699997  205.050003  205.050003  17430514\n",
              "2024-05-03  207.00  208.500000  200.649994  203.800003  203.800003  15781876\n",
              "2024-05-06  204.50  204.500000  196.100006  197.800003  197.800003  25048200\n",
              "2024-05-07  198.25  198.850006  191.550003  192.750000  192.750000  15026421\n",
              "2024-05-08  195.00  201.750000  193.800003  201.149994  201.149994  23504052"
            ],
            "text/html": [
              "\n",
              "  <div id=\"df-fdcf67e2-ef11-426b-9f70-4086d99e97ee\" class=\"colab-df-container\">\n",
              "    <div>\n",
              "<style scoped>\n",
              "    .dataframe tbody tr th:only-of-type {\n",
              "        vertical-align: middle;\n",
              "    }\n",
              "\n",
              "    .dataframe tbody tr th {\n",
              "        vertical-align: top;\n",
              "    }\n",
              "\n",
              "    .dataframe thead th {\n",
              "        text-align: right;\n",
              "    }\n",
              "</style>\n",
              "<table border=\"1\" class=\"dataframe\">\n",
              "  <thead>\n",
              "    <tr style=\"text-align: right;\">\n",
              "      <th></th>\n",
              "      <th>Open</th>\n",
              "      <th>High</th>\n",
              "      <th>Low</th>\n",
              "      <th>Close</th>\n",
              "      <th>Adj Close</th>\n",
              "      <th>Volume</th>\n",
              "    </tr>\n",
              "    <tr>\n",
              "      <th>Date</th>\n",
              "      <th></th>\n",
              "      <th></th>\n",
              "      <th></th>\n",
              "      <th></th>\n",
              "      <th></th>\n",
              "      <th></th>\n",
              "    </tr>\n",
              "  </thead>\n",
              "  <tbody>\n",
              "    <tr>\n",
              "      <th>2024-05-02</th>\n",
              "      <td>209.00</td>\n",
              "      <td>210.149994</td>\n",
              "      <td>201.699997</td>\n",
              "      <td>205.050003</td>\n",
              "      <td>205.050003</td>\n",
              "      <td>17430514</td>\n",
              "    </tr>\n",
              "    <tr>\n",
              "      <th>2024-05-03</th>\n",
              "      <td>207.00</td>\n",
              "      <td>208.500000</td>\n",
              "      <td>200.649994</td>\n",
              "      <td>203.800003</td>\n",
              "      <td>203.800003</td>\n",
              "      <td>15781876</td>\n",
              "    </tr>\n",
              "    <tr>\n",
              "      <th>2024-05-06</th>\n",
              "      <td>204.50</td>\n",
              "      <td>204.500000</td>\n",
              "      <td>196.100006</td>\n",
              "      <td>197.800003</td>\n",
              "      <td>197.800003</td>\n",
              "      <td>25048200</td>\n",
              "    </tr>\n",
              "    <tr>\n",
              "      <th>2024-05-07</th>\n",
              "      <td>198.25</td>\n",
              "      <td>198.850006</td>\n",
              "      <td>191.550003</td>\n",
              "      <td>192.750000</td>\n",
              "      <td>192.750000</td>\n",
              "      <td>15026421</td>\n",
              "    </tr>\n",
              "    <tr>\n",
              "      <th>2024-05-08</th>\n",
              "      <td>195.00</td>\n",
              "      <td>201.750000</td>\n",
              "      <td>193.800003</td>\n",
              "      <td>201.149994</td>\n",
              "      <td>201.149994</td>\n",
              "      <td>23504052</td>\n",
              "    </tr>\n",
              "  </tbody>\n",
              "</table>\n",
              "</div>\n",
              "    <div class=\"colab-df-buttons\">\n",
              "\n",
              "  <div class=\"colab-df-container\">\n",
              "    <button class=\"colab-df-convert\" onclick=\"convertToInteractive('df-fdcf67e2-ef11-426b-9f70-4086d99e97ee')\"\n",
              "            title=\"Convert this dataframe to an interactive table.\"\n",
              "            style=\"display:none;\">\n",
              "\n",
              "  <svg xmlns=\"http://www.w3.org/2000/svg\" height=\"24px\" viewBox=\"0 -960 960 960\">\n",
              "    <path d=\"M120-120v-720h720v720H120Zm60-500h600v-160H180v160Zm220 220h160v-160H400v160Zm0 220h160v-160H400v160ZM180-400h160v-160H180v160Zm440 0h160v-160H620v160ZM180-180h160v-160H180v160Zm440 0h160v-160H620v160Z\"/>\n",
              "  </svg>\n",
              "    </button>\n",
              "\n",
              "  <style>\n",
              "    .colab-df-container {\n",
              "      display:flex;\n",
              "      gap: 12px;\n",
              "    }\n",
              "\n",
              "    .colab-df-convert {\n",
              "      background-color: #E8F0FE;\n",
              "      border: none;\n",
              "      border-radius: 50%;\n",
              "      cursor: pointer;\n",
              "      display: none;\n",
              "      fill: #1967D2;\n",
              "      height: 32px;\n",
              "      padding: 0 0 0 0;\n",
              "      width: 32px;\n",
              "    }\n",
              "\n",
              "    .colab-df-convert:hover {\n",
              "      background-color: #E2EBFA;\n",
              "      box-shadow: 0px 1px 2px rgba(60, 64, 67, 0.3), 0px 1px 3px 1px rgba(60, 64, 67, 0.15);\n",
              "      fill: #174EA6;\n",
              "    }\n",
              "\n",
              "    .colab-df-buttons div {\n",
              "      margin-bottom: 4px;\n",
              "    }\n",
              "\n",
              "    [theme=dark] .colab-df-convert {\n",
              "      background-color: #3B4455;\n",
              "      fill: #D2E3FC;\n",
              "    }\n",
              "\n",
              "    [theme=dark] .colab-df-convert:hover {\n",
              "      background-color: #434B5C;\n",
              "      box-shadow: 0px 1px 3px 1px rgba(0, 0, 0, 0.15);\n",
              "      filter: drop-shadow(0px 1px 2px rgba(0, 0, 0, 0.3));\n",
              "      fill: #FFFFFF;\n",
              "    }\n",
              "  </style>\n",
              "\n",
              "    <script>\n",
              "      const buttonEl =\n",
              "        document.querySelector('#df-fdcf67e2-ef11-426b-9f70-4086d99e97ee button.colab-df-convert');\n",
              "      buttonEl.style.display =\n",
              "        google.colab.kernel.accessAllowed ? 'block' : 'none';\n",
              "\n",
              "      async function convertToInteractive(key) {\n",
              "        const element = document.querySelector('#df-fdcf67e2-ef11-426b-9f70-4086d99e97ee');\n",
              "        const dataTable =\n",
              "          await google.colab.kernel.invokeFunction('convertToInteractive',\n",
              "                                                    [key], {});\n",
              "        if (!dataTable) return;\n",
              "\n",
              "        const docLinkHtml = 'Like what you see? Visit the ' +\n",
              "          '<a target=\"_blank\" href=https://colab.research.google.com/notebooks/data_table.ipynb>data table notebook</a>'\n",
              "          + ' to learn more about interactive tables.';\n",
              "        element.innerHTML = '';\n",
              "        dataTable['output_type'] = 'display_data';\n",
              "        await google.colab.output.renderOutput(dataTable, element);\n",
              "        const docLink = document.createElement('div');\n",
              "        docLink.innerHTML = docLinkHtml;\n",
              "        element.appendChild(docLink);\n",
              "      }\n",
              "    </script>\n",
              "  </div>\n",
              "\n",
              "\n",
              "<div id=\"df-2e3857a7-acb6-4f69-a39c-df93a2a51698\">\n",
              "  <button class=\"colab-df-quickchart\" onclick=\"quickchart('df-2e3857a7-acb6-4f69-a39c-df93a2a51698')\"\n",
              "            title=\"Suggest charts\"\n",
              "            style=\"display:none;\">\n",
              "\n",
              "<svg xmlns=\"http://www.w3.org/2000/svg\" height=\"24px\"viewBox=\"0 0 24 24\"\n",
              "     width=\"24px\">\n",
              "    <g>\n",
              "        <path d=\"M19 3H5c-1.1 0-2 .9-2 2v14c0 1.1.9 2 2 2h14c1.1 0 2-.9 2-2V5c0-1.1-.9-2-2-2zM9 17H7v-7h2v7zm4 0h-2V7h2v10zm4 0h-2v-4h2v4z\"/>\n",
              "    </g>\n",
              "</svg>\n",
              "  </button>\n",
              "\n",
              "<style>\n",
              "  .colab-df-quickchart {\n",
              "      --bg-color: #E8F0FE;\n",
              "      --fill-color: #1967D2;\n",
              "      --hover-bg-color: #E2EBFA;\n",
              "      --hover-fill-color: #174EA6;\n",
              "      --disabled-fill-color: #AAA;\n",
              "      --disabled-bg-color: #DDD;\n",
              "  }\n",
              "\n",
              "  [theme=dark] .colab-df-quickchart {\n",
              "      --bg-color: #3B4455;\n",
              "      --fill-color: #D2E3FC;\n",
              "      --hover-bg-color: #434B5C;\n",
              "      --hover-fill-color: #FFFFFF;\n",
              "      --disabled-bg-color: #3B4455;\n",
              "      --disabled-fill-color: #666;\n",
              "  }\n",
              "\n",
              "  .colab-df-quickchart {\n",
              "    background-color: var(--bg-color);\n",
              "    border: none;\n",
              "    border-radius: 50%;\n",
              "    cursor: pointer;\n",
              "    display: none;\n",
              "    fill: var(--fill-color);\n",
              "    height: 32px;\n",
              "    padding: 0;\n",
              "    width: 32px;\n",
              "  }\n",
              "\n",
              "  .colab-df-quickchart:hover {\n",
              "    background-color: var(--hover-bg-color);\n",
              "    box-shadow: 0 1px 2px rgba(60, 64, 67, 0.3), 0 1px 3px 1px rgba(60, 64, 67, 0.15);\n",
              "    fill: var(--button-hover-fill-color);\n",
              "  }\n",
              "\n",
              "  .colab-df-quickchart-complete:disabled,\n",
              "  .colab-df-quickchart-complete:disabled:hover {\n",
              "    background-color: var(--disabled-bg-color);\n",
              "    fill: var(--disabled-fill-color);\n",
              "    box-shadow: none;\n",
              "  }\n",
              "\n",
              "  .colab-df-spinner {\n",
              "    border: 2px solid var(--fill-color);\n",
              "    border-color: transparent;\n",
              "    border-bottom-color: var(--fill-color);\n",
              "    animation:\n",
              "      spin 1s steps(1) infinite;\n",
              "  }\n",
              "\n",
              "  @keyframes spin {\n",
              "    0% {\n",
              "      border-color: transparent;\n",
              "      border-bottom-color: var(--fill-color);\n",
              "      border-left-color: var(--fill-color);\n",
              "    }\n",
              "    20% {\n",
              "      border-color: transparent;\n",
              "      border-left-color: var(--fill-color);\n",
              "      border-top-color: var(--fill-color);\n",
              "    }\n",
              "    30% {\n",
              "      border-color: transparent;\n",
              "      border-left-color: var(--fill-color);\n",
              "      border-top-color: var(--fill-color);\n",
              "      border-right-color: var(--fill-color);\n",
              "    }\n",
              "    40% {\n",
              "      border-color: transparent;\n",
              "      border-right-color: var(--fill-color);\n",
              "      border-top-color: var(--fill-color);\n",
              "    }\n",
              "    60% {\n",
              "      border-color: transparent;\n",
              "      border-right-color: var(--fill-color);\n",
              "    }\n",
              "    80% {\n",
              "      border-color: transparent;\n",
              "      border-right-color: var(--fill-color);\n",
              "      border-bottom-color: var(--fill-color);\n",
              "    }\n",
              "    90% {\n",
              "      border-color: transparent;\n",
              "      border-bottom-color: var(--fill-color);\n",
              "    }\n",
              "  }\n",
              "</style>\n",
              "\n",
              "  <script>\n",
              "    async function quickchart(key) {\n",
              "      const quickchartButtonEl =\n",
              "        document.querySelector('#' + key + ' button');\n",
              "      quickchartButtonEl.disabled = true;  // To prevent multiple clicks.\n",
              "      quickchartButtonEl.classList.add('colab-df-spinner');\n",
              "      try {\n",
              "        const charts = await google.colab.kernel.invokeFunction(\n",
              "            'suggestCharts', [key], {});\n",
              "      } catch (error) {\n",
              "        console.error('Error during call to suggestCharts:', error);\n",
              "      }\n",
              "      quickchartButtonEl.classList.remove('colab-df-spinner');\n",
              "      quickchartButtonEl.classList.add('colab-df-quickchart-complete');\n",
              "    }\n",
              "    (() => {\n",
              "      let quickchartButtonEl =\n",
              "        document.querySelector('#df-2e3857a7-acb6-4f69-a39c-df93a2a51698 button');\n",
              "      quickchartButtonEl.style.display =\n",
              "        google.colab.kernel.accessAllowed ? 'block' : 'none';\n",
              "    })();\n",
              "  </script>\n",
              "</div>\n",
              "\n",
              "    </div>\n",
              "  </div>\n"
            ],
            "application/vnd.google.colaboratory.intrinsic+json": {
              "type": "dataframe",
              "summary": "{\n  \"name\": \"data\",\n  \"rows\": 5,\n  \"fields\": [\n    {\n      \"column\": \"Date\",\n      \"properties\": {\n        \"dtype\": \"date\",\n        \"min\": \"2024-05-02 00:00:00\",\n        \"max\": \"2024-05-08 00:00:00\",\n        \"num_unique_values\": 5,\n        \"samples\": [\n          \"2024-05-03 00:00:00\",\n          \"2024-05-08 00:00:00\",\n          \"2024-05-06 00:00:00\"\n        ],\n        \"semantic_type\": \"\",\n        \"description\": \"\"\n      }\n    },\n    {\n      \"column\": \"Open\",\n      \"properties\": {\n        \"dtype\": \"number\",\n        \"std\": 5.926634795564849,\n        \"min\": 195.0,\n        \"max\": 209.0,\n        \"num_unique_values\": 5,\n        \"samples\": [\n          207.0,\n          195.0,\n          204.5\n        ],\n        \"semantic_type\": \"\",\n        \"description\": \"\"\n      }\n    },\n    {\n      \"column\": \"High\",\n      \"properties\": {\n        \"dtype\": \"number\",\n        \"std\": 4.666231403944231,\n        \"min\": 198.85000610351562,\n        \"max\": 210.14999389648438,\n        \"num_unique_values\": 5,\n        \"samples\": [\n          208.5,\n          201.75,\n          204.5\n        ],\n        \"semantic_type\": \"\",\n        \"description\": \"\"\n      }\n    },\n    {\n      \"column\": \"Low\",\n      \"properties\": {\n        \"dtype\": \"number\",\n        \"std\": 4.355366357753919,\n        \"min\": 191.5500030517578,\n        \"max\": 201.6999969482422,\n        \"num_unique_values\": 5,\n        \"samples\": [\n          200.64999389648438,\n          193.8000030517578,\n          196.10000610351562\n        ],\n        \"semantic_type\": \"\",\n        \"description\": \"\"\n      }\n    },\n    {\n      \"column\": \"Close\",\n      \"properties\": {\n        \"dtype\": \"number\",\n        \"std\": 4.965053521337146,\n        \"min\": 192.75,\n        \"max\": 205.0500030517578,\n        \"num_unique_values\": 5,\n        \"samples\": [\n          203.8000030517578,\n          201.14999389648438,\n          197.8000030517578\n        ],\n        \"semantic_type\": \"\",\n        \"description\": \"\"\n      }\n    },\n    {\n      \"column\": \"Adj Close\",\n      \"properties\": {\n        \"dtype\": \"number\",\n        \"std\": 4.965053521337146,\n        \"min\": 192.75,\n        \"max\": 205.0500030517578,\n        \"num_unique_values\": 5,\n        \"samples\": [\n          203.8000030517578,\n          201.14999389648438,\n          197.8000030517578\n        ],\n        \"semantic_type\": \"\",\n        \"description\": \"\"\n      }\n    },\n    {\n      \"column\": \"Volume\",\n      \"properties\": {\n        \"dtype\": \"number\",\n        \"std\": 4605284,\n        \"min\": 15026421,\n        \"max\": 25048200,\n        \"num_unique_values\": 5,\n        \"samples\": [\n          15781876,\n          23504052,\n          25048200\n        ],\n        \"semantic_type\": \"\",\n        \"description\": \"\"\n      }\n    }\n  ]\n}"
            }
          },
          "metadata": {},
          "execution_count": 32
        }
      ]
    },
    {
      "cell_type": "code",
      "source": [
        "opn = data[['Open']]"
      ],
      "metadata": {
        "id": "8HgzYZ4f8VZM"
      },
      "execution_count": 33,
      "outputs": []
    },
    {
      "cell_type": "code",
      "source": [
        "opn.plot()"
      ],
      "metadata": {
        "colab": {
          "base_uri": "https://localhost:8080/",
          "height": 439
        },
        "id": "KE8rvy398Xux",
        "outputId": "3ad35d2d-139c-43e6-b5e1-2af5abd6f342"
      },
      "execution_count": 34,
      "outputs": [
        {
          "output_type": "execute_result",
          "data": {
            "text/plain": [
              "<Axes: xlabel='Date'>"
            ]
          },
          "metadata": {},
          "execution_count": 34
        },
        {
          "output_type": "display_data",
          "data": {
            "text/plain": [
              "<Figure size 640x480 with 1 Axes>"
            ],
            "image/png": "[encoded data removed]"
          },
          "metadata": {}
        }
      ]
    },
    {
      "cell_type": "code",
      "source": [
        "import matplotlib.pyplot as plt\n",
        "ds = opn.values"
      ],
      "metadata": {
        "id": "hYq0I0kL8bxm"
      },
      "execution_count": 35,
      "outputs": []
    },
    {
      "cell_type": "code",
      "source": [
        "ds"
      ],
      "metadata": {
        "colab": {
          "base_uri": "https://localhost:8080/"
        },
        "id": "r31sNN5m8gkI",
        "outputId": "b4cf0e34-f09f-4c20-f9ff-78955f2ffb3f"
      },
      "execution_count": 36,
      "outputs": [
        {
          "output_type": "execute_result",
          "data": {
            "text/plain": [
              "array([[113.66666412],\n",
              "       [112.3666687 ],\n",
              "       [113.66666412],\n",
              "       ...,\n",
              "       [204.5       ],\n",
              "       [198.25      ],\n",
              "       [195.        ]])"
            ]
          },
          "metadata": {},
          "execution_count": 36
        }
      ]
    },
    {
      "cell_type": "code",
      "source": [
        "plt.plot(ds)"
      ],
      "metadata": {
        "colab": {
          "base_uri": "https://localhost:8080/",
          "height": 447
        },
        "id": "bz2Pya_s8hDj",
        "outputId": "a85a2466-82f2-4b8e-8403-76e2522e09d5"
      },
      "execution_count": 37,
      "outputs": [
        {
          "output_type": "execute_result",
          "data": {
            "text/plain": [
              "[<matplotlib.lines.Line2D at 0x7f0014199ab0>]"
            ]
          },
          "metadata": {},
          "execution_count": 37
        },
        {
          "output_type": "display_data",
          "data": {
            "text/plain": [
              "<Figure size 640x480 with 1 Axes>"
            ],
            "image/png": "[encoded data removed]"
          },
          "metadata": {}
        }
      ]
    },
    {
      "cell_type": "code",
      "source": [
        "import numpy as np\n",
        "from sklearn.preprocessing import MinMaxScaler\n",
        "normalizer = MinMaxScaler(feature_range=(0,1))\n",
        "ds_scaled = normalizer.fit_transform(np.array(ds).reshape(-1,1))"
      ],
      "metadata": {
        "id": "C1mo3hdJ8m69"
      },
      "execution_count": 38,
      "outputs": []
    },
    {
      "cell_type": "code",
      "source": [
        "len(ds_scaled), len(ds)"
      ],
      "metadata": {
        "colab": {
          "base_uri": "https://localhost:8080/"
        },
        "id": "RcfMOYs98xvD",
        "outputId": "c3bda508-1d3d-45b2-8e8d-2f770a678584"
      },
      "execution_count": 39,
      "outputs": [
        {
          "output_type": "execute_result",
          "data": {
            "text/plain": [
              "(1237, 1237)"
            ]
          },
          "metadata": {},
          "execution_count": 39
        }
      ]
    },
    {
      "cell_type": "code",
      "source": [
        "train_size = int(len(ds_scaled)*0.70)\n",
        "test_size = len(ds_scaled) - train_size"
      ],
      "metadata": {
        "id": "2RYW1qGc82yu"
      },
      "execution_count": 40,
      "outputs": []
    },
    {
      "cell_type": "code",
      "source": [
        "train_size,test_size"
      ],
      "metadata": {
        "colab": {
          "base_uri": "https://localhost:8080/"
        },
        "id": "QNB4W9sP83WV",
        "outputId": "b6249207-1f8c-49fd-a397-77edec46bd6c"
      },
      "execution_count": 41,
      "outputs": [
        {
          "output_type": "execute_result",
          "data": {
            "text/plain": [
              "(865, 372)"
            ]
          },
          "metadata": {},
          "execution_count": 41
        }
      ]
    },
    {
      "cell_type": "code",
      "source": [
        "ds_train, ds_test = ds_scaled[0:train_size,:], ds_scaled[train_size:len(ds_scaled),:1]"
      ],
      "metadata": {
        "id": "DmmJoK0Q88Nk"
      },
      "execution_count": 42,
      "outputs": []
    },
    {
      "cell_type": "code",
      "source": [
        "def create_ds(dataset,step):\n",
        "    Xtrain, Ytrain = [], []\n",
        "    for i in range(len(dataset)-step-1):\n",
        "        a = dataset[i:(i+step), 0]\n",
        "        Xtrain.append(a)\n",
        "        Ytrain.append(dataset[i + step, 0])\n",
        "    return np.array(Xtrain), np.array(Ytrain)"
      ],
      "metadata": {
        "id": "hedkVygK9GQp"
      },
      "execution_count": 43,
      "outputs": []
    },
    {
      "cell_type": "code",
      "source": [
        "time_stamp = 100\n",
        "X_train, y_train = create_ds(ds_train,time_stamp)\n",
        "X_test, y_test = create_ds(ds_test,time_stamp)"
      ],
      "metadata": {
        "id": "qanZfrFW9KO_"
      },
      "execution_count": 44,
      "outputs": []
    },
    {
      "cell_type": "code",
      "source": [
        "X_train.shape,y_train.shape"
      ],
      "metadata": {
        "colab": {
          "base_uri": "https://localhost:8080/"
        },
        "id": "kP7g2xGX9NKu",
        "outputId": "5cbe5a45-de52-451f-ec59-0fc1dde92c24"
      },
      "execution_count": 45,
      "outputs": [
        {
          "output_type": "execute_result",
          "data": {
            "text/plain": [
              "((764, 100), (764,))"
            ]
          },
          "metadata": {},
          "execution_count": 45
        }
      ]
    },
    {
      "cell_type": "code",
      "source": [
        "X_test.shape, y_test.shape"
      ],
      "metadata": {
        "colab": {
          "base_uri": "https://localhost:8080/"
        },
        "id": "8gSWsOpl9QJh",
        "outputId": "51c2806e-bed4-4e06-a6f1-23113feddc74"
      },
      "execution_count": 46,
      "outputs": [
        {
          "output_type": "execute_result",
          "data": {
            "text/plain": [
              "((271, 100), (271,))"
            ]
          },
          "metadata": {},
          "execution_count": 46
        }
      ]
    },
    {
      "cell_type": "code",
      "source": [
        "X_train = X_train.reshape(X_train.shape[0],X_train.shape[1] , 1)\n",
        "X_test = X_test.reshape(X_test.shape[0],X_test.shape[1] , 1)"
      ],
      "metadata": {
        "id": "THk8cP6l9S68"
      },
      "execution_count": 47,
      "outputs": []
    },
    {
      "cell_type": "code",
      "source": [
        "from keras.models import Sequential\n",
        "from keras.layers import Dense, LSTM"
      ],
      "metadata": {
        "id": "UENOxqrf9u9v"
      },
      "execution_count": 48,
      "outputs": []
    },
    {
      "cell_type": "code",
      "source": [
        "model = Sequential()\n",
        "model.add(LSTM(units=50,return_sequences=True,input_shape=(X_train.shape[1],1)))\n",
        "model.add(LSTM(units=50,return_sequences=True))\n",
        "model.add(LSTM(units=50))\n",
        "model.add(Dense(units=1,activation='linear'))\n",
        "model.summary()"
      ],
      "metadata": {
        "colab": {
          "base_uri": "https://localhost:8080/"
        },
        "id": "c4VaUQEi9x6m",
        "outputId": "bfdb5354-5c33-4508-9a5a-d617d7424269"
      },
      "execution_count": 49,
      "outputs": [
        {
          "output_type": "stream",
          "name": "stdout",
          "text": [
            "Model: \"sequential\"\n",
            "_________________________________________________________________\n",
            " Layer (type)                Output Shape              Param #   \n",
            "=================================================================\n",
            " lstm (LSTM)                 (None, 100, 50)           10400     \n",
            "                                                                 \n",
            " lstm_1 (LSTM)               (None, 100, 50)           20200     \n",
            "                                                                 \n",
            " lstm_2 (LSTM)               (None, 50)                20200     \n",
            "                                                                 \n",
            " dense (Dense)               (None, 1)                 51        \n",
            "                                                                 \n",
            "=================================================================\n",
            "Total params: 50851 (198.64 KB)\n",
            "Trainable params: 50851 (198.64 KB)\n",
            "Non-trainable params: 0 (0.00 Byte)\n",
            "_________________________________________________________________\n"
          ]
        }
      ]
    },
    {
      "cell_type": "code",
      "source": [
        "model.compile(loss='mean_squared_error',optimizer='adam')\n",
        "model.fit(X_train,y_train,validation_data=(X_test,y_test),epochs=100,batch_size=64)"
      ],
      "metadata": {
        "colab": {
          "base_uri": "https://localhost:8080/"
        },
        "id": "-bTij-M491Jm",
        "outputId": "41809d0c-7af2-48a8-a80b-3a4864edd35f"
      },
      "execution_count": 50,
      "outputs": [
        {
          "output_type": "stream",
          "name": "stdout",
          "text": [
            "Epoch 1/100\n",
            "12/12 [==============================] - 10s 322ms/step - loss: 0.0198 - val_loss: 0.0512\n",
            "Epoch 2/100\n",
            "12/12 [==============================] - 2s 182ms/step - loss: 0.0040 - val_loss: 0.0134\n",
            "Epoch 3/100\n",
            "12/12 [==============================] - 2s 187ms/step - loss: 0.0022 - val_loss: 0.0219\n",
            "Epoch 4/100\n",
            "12/12 [==============================] - 4s 325ms/step - loss: 0.0014 - val_loss: 0.0089\n",
            "Epoch 5/100\n",
            "12/12 [==============================] - 2s 182ms/step - loss: 0.0011 - val_loss: 0.0033\n",
            "Epoch 6/100\n",
            "12/12 [==============================] - 2s 178ms/step - loss: 0.0011 - val_loss: 0.0032\n",
            "Epoch 7/100\n",
            "12/12 [==============================] - 2s 184ms/step - loss: 0.0011 - val_loss: 0.0035\n",
            "Epoch 8/100\n",
            "12/12 [==============================] - 2s 182ms/step - loss: 0.0010 - val_loss: 0.0038\n",
            "Epoch 9/100\n",
            "12/12 [==============================] - 3s 226ms/step - loss: 9.9809e-04 - val_loss: 0.0038\n",
            "Epoch 10/100\n",
            "12/12 [==============================] - 3s 263ms/step - loss: 0.0010 - val_loss: 0.0028\n",
            "Epoch 11/100\n",
            "12/12 [==============================] - 2s 181ms/step - loss: 9.5600e-04 - val_loss: 0.0022\n",
            "Epoch 12/100\n",
            "12/12 [==============================] - 2s 177ms/step - loss: 9.0953e-04 - val_loss: 0.0048\n",
            "Epoch 13/100\n",
            "12/12 [==============================] - 2s 177ms/step - loss: 9.2643e-04 - val_loss: 0.0022\n",
            "Epoch 14/100\n",
            "12/12 [==============================] - 2s 179ms/step - loss: 8.9899e-04 - val_loss: 0.0030\n",
            "Epoch 15/100\n",
            "12/12 [==============================] - 3s 283ms/step - loss: 8.9976e-04 - val_loss: 0.0042\n",
            "Epoch 16/100\n",
            "12/12 [==============================] - 3s 208ms/step - loss: 8.6904e-04 - val_loss: 0.0018\n",
            "Epoch 17/100\n",
            "12/12 [==============================] - 2s 207ms/step - loss: 8.7753e-04 - val_loss: 0.0031\n",
            "Epoch 18/100\n",
            "12/12 [==============================] - 2s 193ms/step - loss: 8.3890e-04 - val_loss: 0.0020\n",
            "Epoch 19/100\n",
            "12/12 [==============================] - 2s 179ms/step - loss: 8.1903e-04 - val_loss: 0.0015\n",
            "Epoch 20/100\n",
            "12/12 [==============================] - 3s 287ms/step - loss: 8.4798e-04 - val_loss: 0.0032\n",
            "Epoch 21/100\n",
            "12/12 [==============================] - 4s 296ms/step - loss: 7.8643e-04 - val_loss: 0.0043\n",
            "Epoch 22/100\n",
            "12/12 [==============================] - 2s 178ms/step - loss: 7.8521e-04 - val_loss: 0.0031\n",
            "Epoch 23/100\n",
            "12/12 [==============================] - 2s 178ms/step - loss: 8.0179e-04 - val_loss: 0.0021\n",
            "Epoch 24/100\n",
            "12/12 [==============================] - 2s 182ms/step - loss: 7.6203e-04 - val_loss: 0.0020\n",
            "Epoch 25/100\n",
            "12/12 [==============================] - 2s 182ms/step - loss: 7.6051e-04 - val_loss: 0.0033\n",
            "Epoch 26/100\n",
            "12/12 [==============================] - 4s 317ms/step - loss: 7.3566e-04 - val_loss: 0.0020\n",
            "Epoch 27/100\n",
            "12/12 [==============================] - 2s 179ms/step - loss: 7.3230e-04 - val_loss: 0.0025\n",
            "Epoch 28/100\n",
            "12/12 [==============================] - 2s 182ms/step - loss: 7.1569e-04 - val_loss: 0.0032\n",
            "Epoch 29/100\n",
            "12/12 [==============================] - 2s 181ms/step - loss: 7.5684e-04 - val_loss: 0.0026\n",
            "Epoch 30/100\n",
            "12/12 [==============================] - 2s 180ms/step - loss: 7.7712e-04 - val_loss: 0.0022\n",
            "Epoch 31/100\n",
            "12/12 [==============================] - 3s 215ms/step - loss: 7.3402e-04 - val_loss: 0.0026\n",
            "Epoch 32/100\n",
            "12/12 [==============================] - 3s 284ms/step - loss: 6.8514e-04 - val_loss: 0.0019\n",
            "Epoch 33/100\n",
            "12/12 [==============================] - 2s 177ms/step - loss: 6.7492e-04 - val_loss: 0.0016\n",
            "Epoch 34/100\n",
            "12/12 [==============================] - 2s 180ms/step - loss: 6.6457e-04 - val_loss: 0.0020\n",
            "Epoch 35/100\n",
            "12/12 [==============================] - 2s 187ms/step - loss: 6.6196e-04 - val_loss: 0.0032\n",
            "Epoch 36/100\n",
            "12/12 [==============================] - 2s 179ms/step - loss: 6.4378e-04 - val_loss: 0.0019\n",
            "Epoch 37/100\n",
            "12/12 [==============================] - 3s 235ms/step - loss: 6.1872e-04 - val_loss: 0.0023\n",
            "Epoch 38/100\n",
            "12/12 [==============================] - 3s 260ms/step - loss: 6.2275e-04 - val_loss: 0.0024\n",
            "Epoch 39/100\n",
            "12/12 [==============================] - 2s 179ms/step - loss: 6.0856e-04 - val_loss: 0.0031\n",
            "Epoch 40/100\n",
            "12/12 [==============================] - 2s 177ms/step - loss: 6.1917e-04 - val_loss: 0.0030\n",
            "Epoch 41/100\n",
            "12/12 [==============================] - 2s 181ms/step - loss: 5.8816e-04 - val_loss: 0.0016\n",
            "Epoch 42/100\n",
            "12/12 [==============================] - 2s 185ms/step - loss: 5.9186e-04 - val_loss: 0.0036\n",
            "Epoch 43/100\n",
            "12/12 [==============================] - 3s 261ms/step - loss: 5.6209e-04 - val_loss: 0.0016\n",
            "Epoch 44/100\n",
            "12/12 [==============================] - 3s 232ms/step - loss: 5.3883e-04 - val_loss: 0.0029\n",
            "Epoch 45/100\n",
            "12/12 [==============================] - 4s 386ms/step - loss: 5.4656e-04 - val_loss: 0.0018\n",
            "Epoch 46/100\n",
            "12/12 [==============================] - 2s 188ms/step - loss: 5.4790e-04 - val_loss: 0.0019\n",
            "Epoch 47/100\n",
            "12/12 [==============================] - 2s 178ms/step - loss: 5.9577e-04 - val_loss: 0.0041\n",
            "Epoch 48/100\n",
            "12/12 [==============================] - 5s 403ms/step - loss: 5.6991e-04 - val_loss: 0.0022\n",
            "Epoch 49/100\n",
            "12/12 [==============================] - 4s 288ms/step - loss: 5.4248e-04 - val_loss: 0.0025\n",
            "Epoch 50/100\n",
            "12/12 [==============================] - 2s 177ms/step - loss: 5.7285e-04 - val_loss: 0.0040\n",
            "Epoch 51/100\n",
            "12/12 [==============================] - 3s 216ms/step - loss: 5.0953e-04 - val_loss: 0.0018\n",
            "Epoch 52/100\n",
            "12/12 [==============================] - 4s 316ms/step - loss: 4.8592e-04 - val_loss: 0.0024\n",
            "Epoch 53/100\n",
            "12/12 [==============================] - 3s 239ms/step - loss: 4.7427e-04 - val_loss: 0.0023\n",
            "Epoch 54/100\n",
            "12/12 [==============================] - 4s 330ms/step - loss: 4.7076e-04 - val_loss: 0.0013\n",
            "Epoch 55/100\n",
            "12/12 [==============================] - 5s 405ms/step - loss: 4.7789e-04 - val_loss: 0.0025\n",
            "Epoch 56/100\n",
            "12/12 [==============================] - 6s 525ms/step - loss: 4.3156e-04 - val_loss: 0.0028\n",
            "Epoch 57/100\n",
            "12/12 [==============================] - 3s 275ms/step - loss: 4.5282e-04 - val_loss: 0.0032\n",
            "Epoch 58/100\n",
            "12/12 [==============================] - 4s 371ms/step - loss: 4.3199e-04 - val_loss: 0.0028\n",
            "Epoch 59/100\n",
            "12/12 [==============================] - 5s 416ms/step - loss: 4.2882e-04 - val_loss: 0.0028\n",
            "Epoch 60/100\n",
            "12/12 [==============================] - 3s 278ms/step - loss: 4.7972e-04 - val_loss: 0.0013\n",
            "Epoch 61/100\n",
            "12/12 [==============================] - 3s 262ms/step - loss: 4.1712e-04 - val_loss: 0.0024\n",
            "Epoch 62/100\n",
            "12/12 [==============================] - 2s 182ms/step - loss: 4.2543e-04 - val_loss: 0.0029\n",
            "Epoch 63/100\n",
            "12/12 [==============================] - 3s 303ms/step - loss: 4.0278e-04 - val_loss: 0.0023\n",
            "Epoch 64/100\n",
            "12/12 [==============================] - 4s 308ms/step - loss: 3.8548e-04 - val_loss: 0.0017\n",
            "Epoch 65/100\n",
            "12/12 [==============================] - 2s 183ms/step - loss: 4.0849e-04 - val_loss: 0.0015\n",
            "Epoch 66/100\n",
            "12/12 [==============================] - 2s 181ms/step - loss: 3.8372e-04 - val_loss: 0.0012\n",
            "Epoch 67/100\n",
            "12/12 [==============================] - 2s 181ms/step - loss: 3.8296e-04 - val_loss: 0.0023\n",
            "Epoch 68/100\n",
            "12/12 [==============================] - 3s 226ms/step - loss: 3.6475e-04 - val_loss: 0.0014\n",
            "Epoch 69/100\n",
            "12/12 [==============================] - 5s 385ms/step - loss: 3.7283e-04 - val_loss: 0.0026\n",
            "Epoch 70/100\n",
            "12/12 [==============================] - 3s 202ms/step - loss: 3.7665e-04 - val_loss: 0.0036\n",
            "Epoch 71/100\n",
            "12/12 [==============================] - 2s 180ms/step - loss: 4.1398e-04 - val_loss: 0.0024\n",
            "Epoch 72/100\n",
            "12/12 [==============================] - 2s 180ms/step - loss: 3.9238e-04 - val_loss: 0.0020\n",
            "Epoch 73/100\n",
            "12/12 [==============================] - 2s 199ms/step - loss: 3.5650e-04 - val_loss: 0.0013\n",
            "Epoch 74/100\n",
            "12/12 [==============================] - 4s 298ms/step - loss: 3.4798e-04 - val_loss: 0.0020\n",
            "Epoch 75/100\n",
            "12/12 [==============================] - 2s 181ms/step - loss: 3.4051e-04 - val_loss: 0.0017\n",
            "Epoch 76/100\n",
            "12/12 [==============================] - 2s 179ms/step - loss: 3.4196e-04 - val_loss: 0.0021\n",
            "Epoch 77/100\n",
            "12/12 [==============================] - 3s 252ms/step - loss: 3.6061e-04 - val_loss: 0.0021\n",
            "Epoch 78/100\n",
            "12/12 [==============================] - 2s 186ms/step - loss: 3.3146e-04 - val_loss: 0.0019\n",
            "Epoch 79/100\n",
            "12/12 [==============================] - 3s 278ms/step - loss: 3.6726e-04 - val_loss: 0.0020\n",
            "Epoch 80/100\n",
            "12/12 [==============================] - 3s 291ms/step - loss: 3.3855e-04 - val_loss: 0.0019\n",
            "Epoch 81/100\n",
            "12/12 [==============================] - 2s 183ms/step - loss: 3.1629e-04 - val_loss: 0.0014\n",
            "Epoch 82/100\n",
            "12/12 [==============================] - 2s 183ms/step - loss: 3.3110e-04 - val_loss: 0.0023\n",
            "Epoch 83/100\n",
            "12/12 [==============================] - 2s 182ms/step - loss: 3.2975e-04 - val_loss: 0.0017\n",
            "Epoch 84/100\n",
            "12/12 [==============================] - 4s 322ms/step - loss: 3.0234e-04 - val_loss: 0.0014\n",
            "Epoch 85/100\n",
            "12/12 [==============================] - 3s 247ms/step - loss: 3.0362e-04 - val_loss: 0.0019\n",
            "Epoch 86/100\n",
            "12/12 [==============================] - 2s 184ms/step - loss: 3.1323e-04 - val_loss: 0.0015\n",
            "Epoch 87/100\n",
            "12/12 [==============================] - 3s 234ms/step - loss: 2.9160e-04 - val_loss: 8.1078e-04\n",
            "Epoch 88/100\n",
            "12/12 [==============================] - 4s 320ms/step - loss: 3.0770e-04 - val_loss: 8.9064e-04\n",
            "Epoch 89/100\n",
            "12/12 [==============================] - 3s 291ms/step - loss: 3.0533e-04 - val_loss: 8.0220e-04\n",
            "Epoch 90/100\n",
            "12/12 [==============================] - 3s 224ms/step - loss: 2.8584e-04 - val_loss: 0.0018\n",
            "Epoch 91/100\n",
            "12/12 [==============================] - 4s 291ms/step - loss: 2.8937e-04 - val_loss: 0.0011\n",
            "Epoch 92/100\n",
            "12/12 [==============================] - 2s 185ms/step - loss: 2.7070e-04 - val_loss: 8.0514e-04\n",
            "Epoch 93/100\n",
            "12/12 [==============================] - 3s 299ms/step - loss: 2.7099e-04 - val_loss: 9.8767e-04\n",
            "Epoch 94/100\n",
            "12/12 [==============================] - 4s 312ms/step - loss: 2.8367e-04 - val_loss: 0.0012\n",
            "Epoch 95/100\n",
            "12/12 [==============================] - 2s 182ms/step - loss: 2.6371e-04 - val_loss: 5.7973e-04\n",
            "Epoch 96/100\n",
            "12/12 [==============================] - 2s 181ms/step - loss: 2.9123e-04 - val_loss: 0.0018\n",
            "Epoch 97/100\n",
            "12/12 [==============================] - 3s 245ms/step - loss: 3.0181e-04 - val_loss: 0.0011\n",
            "Epoch 98/100\n",
            "12/12 [==============================] - 5s 404ms/step - loss: 2.6148e-04 - val_loss: 8.4430e-04\n",
            "Epoch 99/100\n",
            "12/12 [==============================] - 3s 214ms/step - loss: 2.5706e-04 - val_loss: 8.0582e-04\n",
            "Epoch 100/100\n",
            "12/12 [==============================] - 3s 228ms/step - loss: 2.9875e-04 - val_loss: 0.0015\n"
          ]
        },
        {
          "output_type": "execute_result",
          "data": {
            "text/plain": [
              "<keras.src.callbacks.History at 0x7effbb04cdc0>"
            ]
          },
          "metadata": {},
          "execution_count": 50
        }
      ]
    },
    {
      "cell_type": "code",
      "source": [
        "loss = model.history.history['loss']\n",
        "plt.plot(loss)"
      ],
      "metadata": {
        "colab": {
          "base_uri": "https://localhost:8080/",
          "height": 447
        },
        "id": "ODBJWvp6-Vp9",
        "outputId": "31e9971b-3041-43cb-e9e6-7f5853f8ec7e"
      },
      "execution_count": 52,
      "outputs": [
        {
          "output_type": "execute_result",
          "data": {
            "text/plain": [
              "[<matplotlib.lines.Line2D at 0x7effb1ef1810>]"
            ]
          },
          "metadata": {},
          "execution_count": 52
        },
        {
          "output_type": "display_data",
          "data": {
            "text/plain": [
              "<Figure size 640x480 with 1 Axes>"
            ],
            "image/png": "[encoded data removed]"
          },
          "metadata": {}
        }
      ]
    },
    {
      "cell_type": "code",
      "source": [
        "train_predict = model.predict(X_train)\n",
        "test_predict = model.predict(X_test)"
      ],
      "metadata": {
        "colab": {
          "base_uri": "https://localhost:8080/"
        },
        "id": "ylXD3gsT-YrL",
        "outputId": "543380a7-09eb-4cf7-8728-b7b072ca651c"
      },
      "execution_count": 53,
      "outputs": [
        {
          "output_type": "stream",
          "name": "stdout",
          "text": [
            "24/24 [==============================] - 2s 37ms/step\n",
            "9/9 [==============================] - 0s 35ms/step\n"
          ]
        }
      ]
    },
    {
      "cell_type": "code",
      "source": [
        "train_predict = normalizer.inverse_transform(train_predict)\n",
        "test_predict = normalizer.inverse_transform(test_predict)"
      ],
      "metadata": {
        "id": "xrPMZnpC-dN0"
      },
      "execution_count": 54,
      "outputs": []
    },
    {
      "cell_type": "code",
      "source": [
        "plt.plot(normalizer.inverse_transform(ds_scaled))\n",
        "plt.plot(train_predict)\n",
        "plt.plot(test_predict)"
      ],
      "metadata": {
        "colab": {
          "base_uri": "https://localhost:8080/",
          "height": 447
        },
        "id": "lhNSQB2d-eFY",
        "outputId": "85b412e0-9cc0-4d6a-9061-b3674f11a60e"
      },
      "execution_count": 55,
      "outputs": [
        {
          "output_type": "execute_result",
          "data": {
            "text/plain": [
              "[<matplotlib.lines.Line2D at 0x7effbb80d1e0>]"
            ]
          },
          "metadata": {},
          "execution_count": 55
        },
        {
          "output_type": "display_data",
          "data": {
            "text/plain": [
              "<Figure size 640x480 with 1 Axes>"
            ],
            "image/png": "[encoded data removed]"
          },
          "metadata": {}
        }
      ]
    },
    {
      "cell_type": "code",
      "source": [
        "type(train_predict)"
      ],
      "metadata": {
        "colab": {
          "base_uri": "https://localhost:8080/"
        },
        "id": "CRTNNryo-iB6",
        "outputId": "d0333b44-4a7a-4aee-b54b-43d80e2ac8de"
      },
      "execution_count": 56,
      "outputs": [
        {
          "output_type": "execute_result",
          "data": {
            "text/plain": [
              "numpy.ndarray"
            ]
          },
          "metadata": {},
          "execution_count": 56
        }
      ]
    },
    {
      "cell_type": "code",
      "source": [
        "test = np.vstack((train_predict,test_predict))"
      ],
      "metadata": {
        "id": "qMPiQ5sW-kL7"
      },
      "execution_count": 57,
      "outputs": []
    },
    {
      "cell_type": "code",
      "source": [
        "plt.plot(normalizer.inverse_transform(ds_scaled))\n",
        "plt.plot(test)"
      ],
      "metadata": {
        "colab": {
          "base_uri": "https://localhost:8080/",
          "height": 447
        },
        "id": "IqudvdrE-pzn",
        "outputId": "c3a7ab33-6020-4842-e08d-a52433fa9a0d"
      },
      "execution_count": 58,
      "outputs": [
        {
          "output_type": "execute_result",
          "data": {
            "text/plain": [
              "[<matplotlib.lines.Line2D at 0x7effbb8724d0>]"
            ]
          },
          "metadata": {},
          "execution_count": 58
        },
        {
          "output_type": "display_data",
          "data": {
            "text/plain": [
              "<Figure size 640x480 with 1 Axes>"
            ],
            "image/png": "[encoded data removed]"
          },
          "metadata": {}
        }
      ]
    },
    {
      "cell_type": "code",
      "source": [
        "len(ds_test)"
      ],
      "metadata": {
        "colab": {
          "base_uri": "https://localhost:8080/"
        },
        "id": "EtE4SIP3-u-S",
        "outputId": "003907fc-46d0-407d-f7e7-c51760718c24"
      },
      "execution_count": 59,
      "outputs": [
        {
          "output_type": "execute_result",
          "data": {
            "text/plain": [
              "372"
            ]
          },
          "metadata": {},
          "execution_count": 59
        }
      ]
    },
    {
      "cell_type": "code",
      "source": [
        "fut_inp = ds_test[270:]"
      ],
      "metadata": {
        "id": "i_4v9tFm-zU2"
      },
      "execution_count": 60,
      "outputs": []
    },
    {
      "cell_type": "code",
      "source": [
        "fut_inp = fut_inp.reshape(1,-1)"
      ],
      "metadata": {
        "id": "F7j9-5aI-1nv"
      },
      "execution_count": 61,
      "outputs": []
    },
    {
      "cell_type": "code",
      "source": [
        "tmp_inp = list(fut_inp)"
      ],
      "metadata": {
        "id": "rTVj0iwu-2f_"
      },
      "execution_count": 62,
      "outputs": []
    },
    {
      "cell_type": "code",
      "source": [
        "fut_inp.shape"
      ],
      "metadata": {
        "colab": {
          "base_uri": "https://localhost:8080/"
        },
        "id": "zu2jzwQ1-4vZ",
        "outputId": "490ad494-dc47-4474-e9cd-a18356f0d5a8"
      },
      "execution_count": 63,
      "outputs": [
        {
          "output_type": "execute_result",
          "data": {
            "text/plain": [
              "(1, 102)"
            ]
          },
          "metadata": {},
          "execution_count": 63
        }
      ]
    },
    {
      "cell_type": "code",
      "source": [
        "tmp_inp = tmp_inp[0].tolist()"
      ],
      "metadata": {
        "id": "bt9-cjIJ-6un"
      },
      "execution_count": 64,
      "outputs": []
    },
    {
      "cell_type": "code",
      "source": [
        "fut_inp = fut_inp[:101]"
      ],
      "metadata": {
        "id": "HcBwoU6u_ZD-"
      },
      "execution_count": 68,
      "outputs": []
    },
    {
      "cell_type": "code",
      "source": [
        "len(ds_scaled)"
      ],
      "metadata": {
        "colab": {
          "base_uri": "https://localhost:8080/"
        },
        "id": "ZGWwLAzO_Ikz",
        "outputId": "713210b7-8703-4a1c-b4ee-a1e620edc34b"
      },
      "execution_count": 70,
      "outputs": [
        {
          "output_type": "execute_result",
          "data": {
            "text/plain": [
              "1237"
            ]
          },
          "metadata": {},
          "execution_count": 70
        }
      ]
    },
    {
      "cell_type": "code",
      "source": [
        "plot_new=np.arange(1,101)\n",
        "plot_pred=np.arange(101,131)"
      ],
      "metadata": {
        "id": "iNF-m5Jn_po1"
      },
      "execution_count": 71,
      "outputs": []
    },
    {
      "cell_type": "code",
      "source": [
        "ds_new = ds_scaled.tolist()"
      ],
      "metadata": {
        "id": "xZm7QCR3_xQ3"
      },
      "execution_count": 73,
      "outputs": []
    },
    {
      "cell_type": "code",
      "source": [
        "len(ds_new)"
      ],
      "metadata": {
        "colab": {
          "base_uri": "https://localhost:8080/"
        },
        "id": "woWX3iNf_5ZA",
        "outputId": "6771ec8f-6796-4815-9d4f-0927eb7fc7cb"
      },
      "execution_count": 74,
      "outputs": [
        {
          "output_type": "execute_result",
          "data": {
            "text/plain": [
              "1237"
            ]
          },
          "metadata": {},
          "execution_count": 74
        }
      ]
    },
    {
      "cell_type": "code",
      "source": [
        "ds_new.extend(lst_output)\n",
        "plt.plot(ds_new[1200:])"
      ],
      "metadata": {
        "colab": {
          "base_uri": "https://localhost:8080/",
          "height": 447
        },
        "id": "XqK1ILj3_76-",
        "outputId": "702a68b3-cba4-4c73-b9fc-0a68b5e09a30"
      },
      "execution_count": 75,
      "outputs": [
        {
          "output_type": "execute_result",
          "data": {
            "text/plain": [
              "[<matplotlib.lines.Line2D at 0x7effbb581990>]"
            ]
          },
          "metadata": {},
          "execution_count": 75
        },
        {
          "output_type": "display_data",
          "data": {
            "text/plain": [
              "<Figure size 640x480 with 1 Axes>"
            ],
            "image/png": "[encoded data removed]"
          },
          "metadata": {}
        }
      ]
    },
    {
      "cell_type": "code",
      "source": [
        "final_graph = normalizer.inverse_transform(ds_new).tolist()"
      ],
      "metadata": {
        "id": "T0rW1XcnAEJi"
      },
      "execution_count": 76,
      "outputs": []
    },
    {
      "cell_type": "code",
      "source": [
        "plt.plot(final_graph,)\n",
        "plt.ylabel(\"Price\")\n",
        "plt.xlabel(\"Time\")\n",
        "plt.title(\"{0} prediction of next month open\".format(stock_symbol))\n",
        "plt.axhline(y=final_graph[len(final_graph)-1], color = 'red', linestyle = ':', label = 'NEXT 30D: {0}'.format(round(float(*final_graph[len(final_graph)-1]),2)))\n",
        "plt.legend()"
      ],
      "metadata": {
        "colab": {
          "base_uri": "https://localhost:8080/",
          "height": 489
        },
        "id": "UCWVGQtxAHsh",
        "outputId": "5c06cf8e-e8af-4971-97bb-1ce59b8a7d56"
      },
      "execution_count": 77,
      "outputs": [
        {
          "output_type": "execute_result",
          "data": {
            "text/plain": [
              "<matplotlib.legend.Legend at 0x7effbb50ff70>"
            ]
          },
          "metadata": {},
          "execution_count": 77
        },
        {
          "output_type": "display_data",
          "data": {
            "text/plain": [
              "<Figure size 640x480 with 1 Axes>"
            ],
            "image/png": "[encoded data removed]"
          },
          "metadata": {}
        }
      ]
    }
  ]
}